{
 "cells": [
  {
   "cell_type": "code",
   "execution_count": 5,
   "metadata": {},
   "outputs": [],
   "source": [
    "# Emotion detection is a topic in modern day machine learning that is still being explored consistently for\n",
    "perfection. This research gives the computer the ability to detect an human emotion from facial\n",
    "expressions or voice recognition. in this project we would be using the Ravdes dataset which contains voice recordings \n",
    "of different actors emulating different emotions. The emotions were classified into 8. The aim of this project \n",
    "is to classify 8 different emotions. we have used made use of some machine learning algorithms and also trained a neural\n",
    "network for emotion detection.\n",
    "\n",
    "the dataset used in this project was the ravdes dataset having 1440 records\n"
   ]
  },
  {
   "cell_type": "code",
   "execution_count": null,
   "metadata": {},
   "outputs": [],
   "source": [
    "WHAT IS LIBROSA?\n",
    "librosa is a python library used to analyze audio and music. Librosa provides the building blocks to create\n",
    "music information retrieval systems. it has a flatter package layout, standardizes. it also uses soundfile and audiread\n",
    "to load audio files\n",
    "To install Librosa library with command prompt,\n",
    "Open the command prompt on your system and write \" pip install librosa\" or \" pip install -u librosa\"\n",
    "if you use the Anaconda enviroments,librosa can be installed from the conda-forge channel "
   ]
  },
  {
   "cell_type": "code",
   "execution_count": null,
   "metadata": {},
   "outputs": [],
   "source": [
    "The Dataset \n",
    "for this project we'll use the RAVDESS data set; Ryerson Audio Visual Database of Emotional speech and song \n",
    "database of Emotional speech and song dataset and the data is free to download. The data used in this project \n",
    "has 7356 files rated by 247 individuals. For the sake of this project we lowered the sample rate on all fies, this \n",
    "is done becasue the entire data set is 24.8GB.\n",
    "\n",
    "Prerequisites\n",
    "you'll need to install the libraries below "
   ]
  },
  {
   "cell_type": "code",
   "execution_count": null,
   "metadata": {},
   "outputs": [],
   "source": [
    "pip install librosa soundfile numpy sklearn pyaudio"
   ]
  },
  {
   "cell_type": "code",
   "execution_count": null,
   "metadata": {},
   "outputs": [],
   "source": [
    "#make necessary imports\n",
    "import os\n",
    "import random\n",
    "import sys\n",
    "\n",
    "##package\n",
    "import glob\n",
    "import librosa\n",
    "import librosa.display\n",
    "import matplotlib.pyplot as plt\n",
    "import numpy as np\n",
    "import pandas as pd\n",
    "import seaborn as sns\n",
    "import scipy.io.wavfile\n"
   ]
  },
  {
   "cell_type": "code",
   "execution_count": 2,
   "metadata": {
    "collapsed": true
   },
   "outputs": [
    {
     "data": {
      "text/plain": [
       "['.android',\n",
       " '.AndroidStudio3.0',\n",
       " '.AndroidStudio3.1',\n",
       " '.bash_history',\n",
       " '.BitLord',\n",
       " '.conda',\n",
       " '.condarc',\n",
       " '.config',\n",
       " '.emulator_console_auth_token',\n",
       " '.gimp-2.8',\n",
       " '.gitconfig',\n",
       " '.gradle',\n",
       " '.gtk-bookmarks',\n",
       " '.idlerc',\n",
       " '.IntelliJIdea2017.3',\n",
       " '.ipynb_checkpoints',\n",
       " '.ipython',\n",
       " '.jssc',\n",
       " '.jupyter',\n",
       " '.lesshst',\n",
       " '.matplotlib',\n",
       " '.node_repl_history',\n",
       " '.oracle_jre_usage',\n",
       " '.packettracer',\n",
       " '.popsql.json',\n",
       " '.pylint.d',\n",
       " '.QtWebEngineProcess',\n",
       " '.spss',\n",
       " '.thumbnails',\n",
       " '.viminfo',\n",
       " '.VirtualBox',\n",
       " '.vscode',\n",
       " '.vscode-insiders',\n",
       " '3D Objects',\n",
       " '64467D47FFE44FBCABBAA0DB829A17EB.TMP',\n",
       " 'Adobe Flash Builder 4',\n",
       " 'anaconda3',\n",
       " 'AndroidStudioProjects',\n",
       " 'AppData',\n",
       " 'Application Data',\n",
       " 'Cisco Packet Tracer 6.0.1',\n",
       " 'Cisco Packet Tracer 7.1.1',\n",
       " 'Contacts',\n",
       " 'Cookies',\n",
       " 'Desktop',\n",
       " 'Documents',\n",
       " 'Downloads',\n",
       " 'IdeaProjects',\n",
       " 'inittk.ini',\n",
       " 'inst.ini',\n",
       " 'IntelGraphicsProfiles',\n",
       " 'JARVIS AI virtual assistant .ipynb',\n",
       " 'jupyter',\n",
       " 'kaqs.exe',\n",
       " 'Links',\n",
       " 'Local Settings',\n",
       " 'MicrosoftEdgeBackups',\n",
       " 'Music',\n",
       " 'My Documents',\n",
       " 'NetHood',\n",
       " 'New document 1.2017_07_15_12_32_37.0.svg',\n",
       " 'Nox_share',\n",
       " 'NTUSER.DAT',\n",
       " 'ntuser.dat.LOG1',\n",
       " 'ntuser.dat.LOG2',\n",
       " 'NTUSER.DAT{b50c7fd8-c759-11e9-a03c-afad2d0a14cc}.TxR.0.regtrans-ms',\n",
       " 'NTUSER.DAT{b50c7fd8-c759-11e9-a03c-afad2d0a14cc}.TxR.1.regtrans-ms',\n",
       " 'NTUSER.DAT{b50c7fd8-c759-11e9-a03c-afad2d0a14cc}.TxR.2.regtrans-ms',\n",
       " 'NTUSER.DAT{b50c7fd8-c759-11e9-a03c-afad2d0a14cc}.TxR.blf',\n",
       " 'NTUSER.DAT{b50c7fd9-c759-11e9-a03c-afad2d0a14cc}.TM.blf',\n",
       " 'NTUSER.DAT{b50c7fd9-c759-11e9-a03c-afad2d0a14cc}.TMContainer00000000000000000001.regtrans-ms',\n",
       " 'NTUSER.DAT{b50c7fd9-c759-11e9-a03c-afad2d0a14cc}.TMContainer00000000000000000002.regtrans-ms',\n",
       " 'ntuser.ini',\n",
       " 'nuuid.ini',\n",
       " 'OneDrive',\n",
       " 'OneDrive.old',\n",
       " 'Pictures',\n",
       " 'PrintHood',\n",
       " 'pzii.exe',\n",
       " 'Recent',\n",
       " 'reg',\n",
       " 'ROCK-PAPER-SCISSORS.ipynb',\n",
       " 'Saved Games',\n",
       " 'Searches',\n",
       " 'SendTo',\n",
       " 'Start Menu',\n",
       " 'Templates',\n",
       " 'Untitled.ipynb',\n",
       " 'Untitled1.ipynb',\n",
       " 'Untitled10.ipynb',\n",
       " 'Untitled11.ipynb',\n",
       " 'Untitled12.ipynb',\n",
       " 'Untitled13.ipynb',\n",
       " 'Untitled14.ipynb',\n",
       " 'Untitled2.ipynb',\n",
       " 'Untitled3.ipynb',\n",
       " 'Untitled4.ipynb',\n",
       " 'Untitled5.ipynb',\n",
       " 'Untitled6.ipynb',\n",
       " 'Untitled7.ipynb',\n",
       " 'Untitled8.ipynb',\n",
       " 'Untitled9.ipynb',\n",
       " 'Videos',\n",
       " 'VirtualBox VMs',\n",
       " 'vmlogs',\n",
       " 'xfsfzn.exe',\n",
       " '_netrc']"
      ]
     },
     "execution_count": 2,
     "metadata": {},
     "output_type": "execute_result"
    }
   ],
   "source": [
    "#checking all the current working directory\n",
    "os.listdir()"
   ]
  },
  {
   "cell_type": "code",
   "execution_count": 3,
   "metadata": {},
   "outputs": [
    {
     "name": "stdout",
     "output_type": "stream",
     "text": [
      "['Actor_01', 'Actor_02', 'Actor_03', 'Actor_04', 'Actor_05', 'Actor_06', 'Actor_07', 'Actor_08', 'Actor_09', 'Actor_10', 'Actor_11', 'Actor_12', 'Actor_13', 'Actor_14', 'Actor_15', 'Actor_16', 'Actor_17', 'Actor_18', 'Actor_19', 'Actor_20', 'Actor_21', 'Actor_22', 'Actor_23', 'Actor_24']\n"
     ]
    }
   ],
   "source": [
    "#changing the current working directory to where the data is contained.\n",
    "\n",
    "dir_list = os.listdir('Downloads/ravdess')\n",
    "dir_list.sort()\n",
    "print(dir_list)"
   ]
  },
  {
   "cell_type": "code",
   "execution_count": 6,
   "metadata": {},
   "outputs": [],
   "source": [
    "path = 'Downloads/ravdess'\n",
    "lst = []\n",
    "\n",
    "for subdir, dirs, files in os.walk(path):\n",
    "    for file in files:\n",
    "        try:\n",
    "            X, sample_rate = librosa.load(os.path.join(subdir,file), res_type='kaiser_fast')\n",
    "            mfccs = np.mean(librosa.feature.mfcc(y=X, sr=sample_rate, n_mfcc=40).T,axis=0)\n",
    "            file = file[6:8]\n",
    "            arr = mfccs, file\n",
    "            lst.append(arr)\n",
    "        except ValueError:\n",
    "            continue"
   ]
  },
  {
   "cell_type": "code",
   "execution_count": 7,
   "metadata": {},
   "outputs": [],
   "source": [
    "X, y = zip(*lst)"
   ]
  },
  {
   "cell_type": "code",
   "execution_count": 8,
   "metadata": {},
   "outputs": [
    {
     "data": {
      "text/plain": [
       "((1440, 40), (1440,))"
      ]
     },
     "execution_count": 8,
     "metadata": {},
     "output_type": "execute_result"
    }
   ],
   "source": [
    "import numpy as np\n",
    "X = np.asarray(X)\n",
    "y = np.asarray(y)\n",
    "\n",
    "\n",
    "X.shape, y.shape"
   ]
  },
  {
   "cell_type": "code",
   "execution_count": 9,
   "metadata": {},
   "outputs": [],
   "source": [
    "from sklearn.model_selection import train_test_split\n",
    "X_train, X_test, y_train, y_test = train_test_split(X, y, test_size=0.33, random_state=42)"
   ]
  },
  {
   "cell_type": "code",
   "execution_count": 10,
   "metadata": {},
   "outputs": [],
   "source": [
    "from sklearn.tree import DecisionTreeClassifier"
   ]
  },
  {
   "cell_type": "code",
   "execution_count": 11,
   "metadata": {},
   "outputs": [],
   "source": [
    "dtree = DecisionTreeClassifier()"
   ]
  },
  {
   "cell_type": "code",
   "execution_count": 12,
   "metadata": {},
   "outputs": [
    {
     "data": {
      "text/plain": [
       "DecisionTreeClassifier()"
      ]
     },
     "execution_count": 12,
     "metadata": {},
     "output_type": "execute_result"
    }
   ],
   "source": [
    "dtree.fit(X_train, y_train)"
   ]
  },
  {
   "cell_type": "code",
   "execution_count": 14,
   "metadata": {},
   "outputs": [],
   "source": [
    "predictions = dtree.predict(X_test)"
   ]
  },
  {
   "cell_type": "code",
   "execution_count": 17,
   "metadata": {},
   "outputs": [
    {
     "name": "stdout",
     "output_type": "stream",
     "text": [
      "              precision    recall  f1-score   support\n",
      "\n",
      "          01       0.18      0.25      0.21        28\n",
      "          02       0.42      0.35      0.38        72\n",
      "          03       0.26      0.24      0.25        58\n",
      "          04       0.22      0.30      0.25        60\n",
      "          05       0.58      0.58      0.58        60\n",
      "          06       0.36      0.44      0.40        55\n",
      "          07       0.36      0.28      0.32        74\n",
      "          08       0.42      0.36      0.39        69\n",
      "\n",
      "    accuracy                           0.36       476\n",
      "   macro avg       0.35      0.35      0.35       476\n",
      "weighted avg       0.37      0.36      0.36       476\n",
      "\n"
     ]
    }
   ],
   "source": [
    "from sklearn.metrics import classification_report,confusion_matrix\n",
    "print(classification_report(y_test,predictions))"
   ]
  },
  {
   "cell_type": "code",
   "execution_count": null,
   "metadata": {},
   "outputs": [],
   "source": [
    "#RANDOM FOREST: IN THIS SECOND APPROACH I'LL BE USING A RANDOM FOREST CLASSIFIER"
   ]
  },
  {
   "cell_type": "code",
   "execution_count": 18,
   "metadata": {},
   "outputs": [],
   "source": [
    "from sklearn.ensemble import RandomForestClassifier"
   ]
  },
  {
   "cell_type": "code",
   "execution_count": 19,
   "metadata": {},
   "outputs": [],
   "source": [
    "rforest = RandomForestClassifier(criterion='gini', max_depth=10, max_features='log2',\n",
    "                                max_leaf_nodes = 100, min_samples_leaf = 3, min_samples_split = 20,\n",
    "                                n_estimators=22000, random_state=5)"
   ]
  },
  {
   "cell_type": "code",
   "execution_count": 20,
   "metadata": {},
   "outputs": [
    {
     "data": {
      "text/plain": [
       "RandomForestClassifier(max_depth=10, max_features='log2', max_leaf_nodes=100,\n",
       "                       min_samples_leaf=3, min_samples_split=20,\n",
       "                       n_estimators=22000, random_state=5)"
      ]
     },
     "execution_count": 20,
     "metadata": {},
     "output_type": "execute_result"
    }
   ],
   "source": [
    "rforest.fit(X_train, y_train)"
   ]
  },
  {
   "cell_type": "code",
   "execution_count": 21,
   "metadata": {},
   "outputs": [],
   "source": [
    "predictions = rforest.predict(X_test)"
   ]
  },
  {
   "cell_type": "code",
   "execution_count": 22,
   "metadata": {},
   "outputs": [
    {
     "name": "stdout",
     "output_type": "stream",
     "text": [
      "              precision    recall  f1-score   support\n",
      "\n",
      "          01       0.33      0.04      0.06        28\n",
      "          02       0.48      0.88      0.62        72\n",
      "          03       0.45      0.40      0.42        58\n",
      "          04       0.57      0.43      0.49        60\n",
      "          05       0.56      0.60      0.58        60\n",
      "          06       0.57      0.56      0.57        55\n",
      "          07       0.44      0.43      0.44        74\n",
      "          08       0.59      0.46      0.52        69\n",
      "\n",
      "    accuracy                           0.51       476\n",
      "   macro avg       0.50      0.48      0.46       476\n",
      "weighted avg       0.51      0.51      0.49       476\n",
      "\n"
     ]
    }
   ],
   "source": [
    "print(classification_report(y_test,predictions))"
   ]
  },
  {
   "cell_type": "code",
   "execution_count": 1,
   "metadata": {},
   "outputs": [
    {
     "data": {
      "text/plain": [
       "4"
      ]
     },
     "execution_count": 1,
     "metadata": {},
     "output_type": "execute_result"
    }
   ],
   "source": [
    "2+2"
   ]
  },
  {
   "cell_type": "code",
   "execution_count": null,
   "metadata": {},
   "outputs": [],
   "source": []
  },
  {
   "cell_type": "code",
   "execution_count": null,
   "metadata": {},
   "outputs": [],
   "source": []
  },
  {
   "cell_type": "code",
   "execution_count": null,
   "metadata": {},
   "outputs": [],
   "source": [
    "data_df = pd.DataFrame(columns=['path', 'source', 'actor', 'gender', 'intensity', 'statement', 'repetition', 'emotion'])\n",
    "\n",
    "count = 0\n",
    "for i in dir_list:\n",
    "    file_list = os.listdir('Downloads/ravdess' + i)\n",
    "    for f in file_list('_')[0].split('_')\n",
    "    path = 'Downloads/ravdess' + i + '/' + f\n",
    "    src = int(nm[1])\n",
    "    actor = int(nm[-1])\n",
    "    emotion = int(nm[2])\n",
    "    \n",
    "    if int(actor)%2 ==0:\n",
    "        gender = "
   ]
  }
 ],
 "metadata": {
  "kernelspec": {
   "display_name": "Python 3",
   "language": "python",
   "name": "python3"
  },
  "language_info": {
   "codemirror_mode": {
    "name": "ipython",
    "version": 3
   },
   "file_extension": ".py",
   "mimetype": "text/x-python",
   "name": "python",
   "nbconvert_exporter": "python",
   "pygments_lexer": "ipython3",
   "version": "3.8.3"
  }
 },
 "nbformat": 4,
 "nbformat_minor": 4
}
